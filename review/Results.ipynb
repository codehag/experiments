{
 "cells": [
  {
   "cell_type": "markdown",
   "metadata": {},
   "source": [
    "## Introduction\n",
    "\n",
    "This is an overview of the first experiment run within the context of the TC39. Mistakes were made, but this document should help us find our footing.\n",
    "\n",
    "## Participant JS proficiency\n",
    "\n",
    "Participants were graded on their JS proficiency in two ways. First, they were asked how they viewed their own proficiency, and then they were asked to answer two questions to identify if they were readily aware of simple but significant ways in which the language worked. The first were two problems on the output of a console log. The second was a test to see if they understood different ways a function could be written that was equivalent. These were the tests:\n",
    "\n",
    "```js\n",
    "function add(x, y) {\n",
    "  return x + y;\n",
    "}\n",
    "\n",
    "function addTo(x) { ",
    "\n",
    "  return (y) => add(x, y);\n",
    "} ",
    "\n",
    "\n",
    "const addTen = addTo(10);\n",
    "\n",
    "console.log(typeof add(1, 2));\n",
    "console.log(typeof addTen);\n",
    "\n",
    "/****Questions:\n",
    "*\n",
    "*    What is the result of the first console log?\n",
    "*\n",
    "*    What is the result of the second console log?\n",
    "*    - A string\n",
    "*    - An object\n",
    "*    - An error\n",
    "*    - A function\n",
    "*    What is the type that is returned from `addTen(’15’)`?\n",
    "*    - A number\n",
    "*    - A number but with a value NaN\n",
    "*    - A function\n",
    "*    - A string\n",
    "*\n",
    "*    Which of these are equivalent to addTo(10)?\n",
    "*\n",
    "*    - add.bind(null, 10);\n",
    "*    - add.call(null, 10);\n",
    "*    - y => add(10, y);\n",
    "*    - add.apply(null, [10]);\n",
    "*\n",
    "*****/\n",
    "\n",
    "```\n",
    "\n",
    "TODO: Number of correct or incorrect responses:"
   ]
  },
  {
   "cell_type": "code",
   "execution_count": 1,
   "metadata": {},
   "outputs": [],
   "source": [
    "import pandas as pd \n",
    "\n",
    "data = pd.read_csv(\"numbers.csv\") \n"
   ]
  },
  {
   "cell_type": "code",
   "execution_count": null,
   "metadata": {},
   "outputs": [],
   "source": []
  },
  {
   "cell_type": "markdown",
   "metadata": {},
   "source": [
    "## Error insertion patterns\n",
    "\n",
    "The two proposals were tested against one another in a few different ways. The proposals could be paired with either a \"nested\" variant of the code, or a \"flattened\" variant of the code. Participants were assigned code samples randomly and there were a total of 16 different code samples tested, focused on different aspects that each pattern would reveal. \n",
    "\n",
    "### Testing Existing Patterns against the new proposal patterns\n",
    "\n",
    "The two tested proposals had very small differences in their syntax. I tried to establish the baseline between two very different looking existing patterns against the very similar new variant. However, I found that certain types of errors would really only happen in certain contexts. Pipeline 1, the pipeline with the `#`, would very rarely have an issue with a missing `)`. The similarity between the pipelines and the flattened variant ment that a missing `day` parameter in `ferment` would be minimal. However it could and should have been tested. None the less the results are interesting:\n"
   ]
  },
  {
   "cell_type": "markdown",
   "metadata": {},
   "source": [
    "###  Missing Parentheses test\n",
    "\n",
    "The missing parenthesis test tested if a parenthesis, which could be visually forgotten in a piece of code, was more easily picked up in one variant of the test as opposed to the others.\n",
    "    \n",
    "<table>\n",
    "<tr><th style=\"text-align: left\">Nested Variant</th>\n",
    "    <th style=\"text-align: left\">Flattened Variant</th>\n",
    "    <th style=\"text-align: left\">Proposal Variant 2</th>\n",
    "</tr>\n",
    "<tr >\n",
    "<td style=\"text-align: left\">\n",
    "Bughunt 3:\n",
    "    \n",
    "```js\n",
    "const sauerkrautJar = await ferment(\n",
    "  salt(\n",
    "    new Jar\n",
    "      pound(\n",
    "        cut(\n",
    "          wash(\"cabbage\")\n",
    "        )\n",
    "      )\n",
    "    )\n",
    "  ), 14\n",
    ");\n",
    "const sauerkraut = sauerkrautJar.takeOne();\n",
    "\n",
    "// SyntaxError: unexpected token: ')'\n",
    "```\n",
    "</td><td style=\"text-align: left\">\n",
    "    \n",
    "Bughunt 6:\n",
    "```js\n",
    "const washedCabbage = wash(\"cabbage\");\n",
    "const cutCabbage = cut(washedCabbage);\n",
    "const crushedCabbage = poundcutCabbage);\n",
    "const cabbageJar = new Jar(crushedCabbage);\n",
    "const saltyCabbageJar = salt(cabbageJar);\n",
    "const sauerkrautJar = await ferment(saltyCabbageJar, 14);\n",
    "const sauerkraut = sauerkrautJar.takeOne();\n",
    "\n",
    "// SyntaxError: unexpected token: ')'\n",
    "```\n",
    "</td><td style=\"text-align: left\">\n",
    "    \n",
    "Bughunt 12:\n",
    "```js\n",
    "const sauerkraut = \"cabbage\"\n",
    "  |> wash\n",
    "  |> cut\n",
    "  |> pound\n",
    "  |> (_ => new Jar(_)\n",
    "  |> salt\n",
    "  |> (_ => ferment(_, 14))\n",
    "  |> await\n",
    "  |> (_ => _.takeOne())\n",
    "\n",
    "// SyntaxError: missing ) in parenthetical\n",
    "```\n",
    "</td></tr>\n",
    "</table>"
   ]
  },
  {
   "cell_type": "code",
   "execution_count": null,
   "metadata": {
    "scrolled": false
   },
   "outputs": [],
   "source": [
    "columns = ['Timing Correct Bughunt 3', 'Timing Incorrect Bughunt 3', 'Timing Correct Bughunt 6', 'Timing Incorrect Bughunt 6', 'Timing Correct Bughunt 12', 'Timing Incorrect Bughunt 12']\n",
    "threshold_upper = 350\n",
    "threshold_lower = 10\n",
    "\n",
    "for column in columns:\n",
    "    data[column].dropna()\n",
    "    data[column] = data[column].clip(upper=threshold_upper, lower=threshold_lower)\n",
    "\n",
    "boxplot = data.boxplot(column=columns, figsize=(20, 5))"
   ]
  },
  {
   "cell_type": "markdown",
   "metadata": {},
   "source": [
    "#### TODO: conclusion\n",
    "\n",
    "On first glance, it appears that Proposal Variant 2 performed better here, significantly better than the nested variant."
   ]
  },
  {
   "cell_type": "markdown",
   "metadata": {
    "scrolled": true
   },
   "source": [
    "###  Missing second argument\n",
    "\n",
    "<table align=left>\n",
    "<tr><th style=\"text-align: left\">Nested Variant</th>\n",
    "    <th style=\"text-align: left\">Pipeline Variant 1</th>\n",
    "    <th style=\"text-align: left\">Pipeline Variant 2</th>\n",
    "</tr>\n",
    "<tr >\n",
    "<td align=left style=\"text-align: left\">\n",
    "\n",
    "Bughunt 1:\n",
    "\n",
    "```js\n",
    "const sauerkrautJar = await ferment(\n",
    "  salt(\n",
    "    new Jar(\n",
    "      pound(\n",
    "        cut(\n",
    "          wash(\"cabbage\")\n",
    "        )\n",
    "      )\n",
    "    )\n",
    "  )\n",
    ");\n",
    "const sauerkraut = sauerkrautJar.takeOne();\n",
    "\n",
    "// Error: No day length provided\n",
    "```\n",
    "</td><td align=left style=\"text-align: left\">\n",
    "\n",
    "Bughunt 10:\n",
    "```js\n",
    "const sauerkraut = \"cabbage\"\n",
    "  |> wash\n",
    "  |> cut\n",
    "  |> pound\n",
    "  |> new Jar(#)\n",
    "  |> add(\"water\", #)\n",
    "  |> salt\n",
    "  |> ferment\n",
    "  |> await #\n",
    "  |> #.takeOne()\n",
    "\n",
    "// Error: No day length provided\n",
    "```\n",
    "</td><td align=left style=\"text-align: left\">\n",
    "\n",
    "Bughunt 16:\n",
    "```js\n",
    "const sauerkraut = \"cabbage\"\n",
    "  |> wash\n",
    "  |> cut\n",
    "  |> pound\n",
    "  |> (_ => new Jar(_))\n",
    "  |> salt\n",
    "  |> ferment\n",
    "  |> await\n",
    "  |> (_ => _.takeOne())\n",
    "\n",
    "\n",
    "// Error: No day length provided\n",
    "```\n",
    "</td></tr></table>\n",
    "\n"
   ]
  },
  {
   "cell_type": "code",
   "execution_count": null,
   "metadata": {
    "scrolled": true
   },
   "outputs": [],
   "source": [
    "columns = ['Timing Correct Bughunt 1', 'Timing Incorrect Bughunt 1', 'Timing Correct Bughunt 10', 'Timing Incorrect Bughunt 10', 'Timing Correct Bughunt 16', 'Timing Incorrect Bughunt 16']\n",
    "threshold_upper = 350\n",
    "threshold_lower = 10\n",
    "\n",
    "for column in columns:\n",
    "    data[column].dropna()\n",
    "    data[column] = data[column].clip(upper=threshold_upper, lower=threshold_lower)\n",
    "\n",
    "boxplot = data.boxplot(column=columns, figsize=(20, 5))"
   ]
  },
  {
   "cell_type": "markdown",
   "metadata": {},
   "source": [
    "#### TODO: conclusion\n",
    "\n",
    "On first glance, it appears that Proposal Variant 2 performed better here, significantly better than the nested variant, but very close to proposal 1"
   ]
  },
  {
   "cell_type": "markdown",
   "metadata": {},
   "source": [
    "## Pipeline Shared Error patterns\n",
    "\n",
    "The two pipeline patterns shared a couple of error spaces, specifically in the implicit passing of arguments. This was tricky in particular for `new` instantiation, which would not automatically be done for the user. This is inconsistant syntax wise, both for the existing language and for the new pipeline operator. This was identified in testing as a tricky area for users. \n",
    "\n",
    "The two pipeline operators performed in the following way:"
   ]
  },
  {
   "cell_type": "markdown",
   "metadata": {},
   "source": [
    "###  Pipeline only: `New` Object initialization\n",
    "\n",
    "\n",
    "<table align=left>\n",
    "<tr><th style=\"text-align: left\">Pipeline Variant 1</th>\n",
    "    <th style=\"text-align: left\">Pipeline Variant 2</th>\n",
    "</tr>\n",
    "<tr >\n",
    "<td align=left style=\"text-align: left\">\n",
    "\n",
    "Bughunt 9:\n",
    "```js\n",
    "const sauerkraut = \"cabbage\"\n",
    "  |> wash\n",
    "  |> cut\n",
    "  |> pound\n",
    "  |> new Jar\n",
    "  |> add(\"water\", #)\n",
    "  |> salt\n",
    "  |> ferment(#, 14)\n",
    "  |> await #\n",
    "  |> #.takeOne()\n",
    "\n",
    "// Error: Jar must be instantiated with an initial ingredient\n",
    "```\n",
    "</td><td align=left style=\"text-align: left\">\n",
    "\n",
    "Bughunt 15:\n",
    "```js\n",
    "const sauerkraut = \"cabbage\"\n",
    "  |> wash\n",
    "  |> cut\n",
    "  |> pound\n",
    "  |> new Jar\n",
    "  |> salt\n",
    "  |> (_ => ferment(_, 14))\n",
    "  |> await\n",
    "  |> (_ => _.takeOne())\n",
    "\n",
    "// Error: Jar must be instantiated with an initial ingredient\n",
    "```\n",
    "</td></tr></table>"
   ]
  },
  {
   "cell_type": "code",
   "execution_count": null,
   "metadata": {
    "scrolled": false
   },
   "outputs": [],
   "source": [
    "columns = ['Timing Correct Bughunt 9', 'Timing Incorrect Bughunt 9', 'Timing Correct Bughunt 15', 'Timing Incorrect Bughunt 15']\n",
    "threshold_upper = 350\n",
    "threshold_lower = 10\n",
    "\n",
    "for column in columns:\n",
    "    data[column].dropna()\n",
    "    data[column] = data[column].clip(upper=threshold_upper, lower=threshold_lower)\n",
    "\n",
    "boxplot = data.boxplot(column=columns, figsize=(20, 5))"
   ]
  },
  {
   "cell_type": "markdown",
   "metadata": {},
   "source": [
    "#### TODO: conclusion\n",
    "\n",
    "The two proposals faired almost equally here, with a slightly better performance in pipeline variant 2."
   ]
  },
  {
   "cell_type": "markdown",
   "metadata": {},
   "source": [
    "###  Pipeline only: Early Line termination\n",
    "\n",
    "Early termination is another tricky area for users. If a `;` is found in the pipeline, it will result in the next `|>` to be seen as a syntax error. This is something that is very likely if a user copy pastes from another area in the code.\n",
    "\n",
    "The two variants performed in the following ways:\n",
    "\n",
    "<table align=left>\n",
    "<tr><th style=\"text-align: left\">Pipeline Variant 1</th>\n",
    "    <th style=\"text-align: left\">Pipeline Variant 2</th>\n",
    "</tr>\n",
    "<tr >\n",
    "<td align=left style=\"text-align: left\">\n",
    "\n",
    "Bughunt 8:\n",
    "```js\n",
    "const sauerkraut = \"cabbage\"\n",
    "  |> wash\n",
    "  |> cut\n",
    "  |> pound\n",
    "  |> new Jar(#);\n",
    "  |> add(\"water\", #)\n",
    "  |> salt\n",
    "  |> ferment(#, 2)\n",
    "  |> await #\n",
    "  |> #.takeOne()\n",
    "\n",
    "// SyntaxError: unexpected token `|`\n",
    "```\n",
    "</td><td align=left style=\"text-align: left\">\n",
    "\n",
    "Bughunt 13:\n",
    "```js\n",
    "const sauerkraut = \"cabbage\"\n",
    "  |> wash\n",
    "  |> cut\n",
    "  |> pound\n",
    "  |> (_ => new Jar(_));\n",
    "  |> salt\n",
    "  |> (_ => ferment(_, 14))\n",
    "  |> await\n",
    "  |> (_ => _.takeOne())\n",
    "\n",
    "// SyntaxError: Unexpected token `|`\n",
    "```\n",
    "</td></tr></table>"
   ]
  },
  {
   "cell_type": "code",
   "execution_count": null,
   "metadata": {
    "scrolled": true
   },
   "outputs": [],
   "source": [
    "columns = ['Timing Correct Bughunt 8', 'Timing Incorrect Bughunt 8', 'Timing Correct Bughunt 13', 'Timing Incorrect Bughunt 13']\n",
    "threshold_upper = 350\n",
    "threshold_lower = 10\n",
    "\n",
    "for column in columns:\n",
    "    data[column].dropna()\n",
    "    data[column] = data[column].clip(upper=threshold_upper, lower=threshold_lower)\n",
    "\n",
    "boxplot = data.boxplot(column=columns, figsize=(20, 5))"
   ]
  },
  {
   "cell_type": "markdown",
   "metadata": {},
   "source": [
    "#### TODO: conclusion\n",
    "\n",
    "The two proposals faired almost equally here, with a slightly better performance in pipeline variant 1."
   ]
  },
  {
   "cell_type": "markdown",
   "metadata": {},
   "source": [
    "## Pattern Specific errors\n",
    "\n",
    "Each pattern presented specific errors that were more likely to appear in their context rather than in others. These errors cannot be compared, but they can give us some data about how difficult different tasks are, using the same problem space. I intend to use this to grade how difficult each test was from the perspective of users. "
   ]
  },
  {
   "cell_type": "markdown",
   "metadata": {},
   "source": [
    "###  Flattened Variant Specific: Hidden in text error\n",
    "\n",
    "Goal to see how long it takes for this type of error to be recognized.\n",
    "\n",
    "Bugunt 4:\n",
    "```js\n",
    "const washedCabbage = wash(\"cabbage\");\n",
    "const cutCabbage = cut(washedCabbage);\n",
    "const crushedCabbage = pound(cutCabbage);\n",
    "const cabbageJar = new Jar(crushedCabbage);\n",
    "const saltyCabbageJar = salt(cabbageJar);\n",
    "const sauerkrautJar = await ferment(saltCabbageJar, 14);\n",
    "const sauerkraut = sauerkrautJar.takeOne();\n",
    "\n",
    "// Error: saltCabbageJar is undefined\n",
    "```\n"
   ]
  },
  {
   "cell_type": "code",
   "execution_count": null,
   "metadata": {
    "scrolled": true
   },
   "outputs": [],
   "source": [
    "columns = ['Timing Correct Bughunt 4', 'Timing Incorrect Bughunt 4']\n",
    "threshold_upper = 550\n",
    "threshold_lower = 10\n",
    "\n",
    "for column in columns:\n",
    "    data[column].dropna()\n",
    "    data[column] = data[column].clip(upper=threshold_upper, lower=threshold_lower)\n",
    "\n",
    "boxplot = data.boxplot(column=columns, figsize=(20, 5))"
   ]
  },
  {
   "cell_type": "markdown",
   "metadata": {},
   "source": [
    "###  Pipeline Variant 1: Missing `#`\n",
    "\n",
    "Goal to see how long it takes for this type of error to be recognized in this unique problem area for this proposal.\n",
    "\n",
    "Bughunt 11:\n",
    "```js\n",
    "const sauerkraut = \"cabbage\"\n",
    "  |> wash\n",
    "  |> cut\n",
    "  |> pound\n",
    "  |> new Jar(#)\n",
    "  |> add(\"water\", #)\n",
    "  |> salt()\n",
    "  |> ferment(#, 2)\n",
    "  |> await #\n",
    "  |> #.takeOne()\n",
    "\n",
    "// SyntaxError: `#` is undefined\n",
    "```\n"
   ]
  },
  {
   "cell_type": "code",
   "execution_count": null,
   "metadata": {
    "scrolled": false
   },
   "outputs": [],
   "source": [
    "columns = ['Timing Correct Bughunt 11', 'Timing Incorrect Bughunt 11']\n",
    "threshold_upper = 550\n",
    "threshold_lower = 10\n",
    "\n",
    "for column in columns:\n",
    "    data[column].dropna()\n",
    "    data[column] = data[column].clip(upper=threshold_upper, lower=threshold_lower)\n",
    "\n",
    "boxplot = data.boxplot(column=columns, figsize=(20, 5))"
   ]
  },
  {
   "cell_type": "markdown",
   "metadata": {},
   "source": [
    "###  Pipeline Variant 2: Incorrect use of automatic return statement\n",
    "\n",
    "Goal to see how long it takes for this type of error to be recognized in this unique problem area for this proposal.\n",
    "\n",
    "Bughunt 14:\n",
    "```js\n",
    "const sauerkraut = \"cabbage\"\n",
    "  |> wash\n",
    "  |> cut\n",
    "  |> pound\n",
    "  |> (_ => {new Jar(_)})\n",
    "  |> salt\n",
    "  |> (_ => {ferment(_, 14)})\n",
    "  |> await\n",
    "  |> (_ => {_.takeOne()})\n",
    "\n",
    "\n",
    "// Error: jar is undefined\n",
    "```"
   ]
  },
  {
   "cell_type": "code",
   "execution_count": null,
   "metadata": {
    "scrolled": false
   },
   "outputs": [],
   "source": [
    "columns = ['Timing Correct Bughunt 14', 'Timing Incorrect Bughunt 14']\n",
    "threshold_upper = 550\n",
    "threshold_lower = 10\n",
    "\n",
    "for column in columns:\n",
    "    data[column].dropna()\n",
    "    data[column] = data[column].clip(upper=threshold_upper, lower=threshold_lower)\n",
    "\n",
    "boxplot = data.boxplot(column=columns, figsize=(20, 5))"
   ]
  },
  {
   "cell_type": "markdown",
   "metadata": {},
   "source": [
    "# Comparing Typing\n",
    "\n",
    "### typing performance and correctness in translating a given challenge\n",
    "\n",
    "Participants who took the proposal 1, 2 or mixed branches were asked to refactor the following code:\n",
    "\n",
    "```js\n",
    "const kimchiJar = await ferment(\n",
    "    stir(\n",
    "      add(\n",
    "        \"spicy paste\",\n",
    "        new Jar(\n",
    "          salt(\n",
    "            cut(\n",
    "              wash(\"cabbage\")\n",
    "            )\n",
    "          )\n",
    "        )\n",
    "      )\n",
    "    )\n",
    "  ), 2\n",
    ");\n",
    "\n",
    "const kimchi = kimchiJar.takeOne();\n",
    "```\n",
    "\n",
    "The code itself had no errors. The correctness of the implementation was then marked by hand, and reviewed. Participants were timed in this task.\n",
    "\n",
    "The results were as follows, for correct and incorrect implementations.\n"
   ]
  },
  {
   "cell_type": "code",
   "execution_count": null,
   "metadata": {},
   "outputs": [],
   "source": [
    "columns = ['Proposal 1 Implementation Timing Correct', 'Proposal 1 Implementation Timing Incorrect', 'Proposal 2 Implementation Timing Correct','Proposal 2 Implementation Timing Incorrect']\n",
    "threshold_upper = 1000\n",
    "threshold_lower = 0\n",
    "\n",
    "for column in columns:\n",
    "    data[column] = data[column].clip(upper=threshold_upper, lower=threshold_lower)\n",
    "    data[column].dropna()\n",
    "\n",
    "\n",
    "\n",
    "boxplot = data.boxplot(column=columns, figsize=(20, 5))"
   ]
  }
 ],
 "metadata": {
  "kernelspec": {
   "display_name": "Python 3",
   "language": "python",
   "name": "python3"
  },
  "language_info": {
   "codemirror_mode": {
    "name": "ipython",
    "version": 3
   },
   "file_extension": ".py",
   "mimetype": "text/x-python",
   "name": "python",
   "nbconvert_exporter": "python",
   "pygments_lexer": "ipython3",
   "version": "3.7.3"
  }
 },
 "nbformat": 4,
 "nbformat_minor": 2
}
