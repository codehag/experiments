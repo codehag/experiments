{
 "cells": [
  {
   "cell_type": "code",
   "execution_count": 50,
   "metadata": {},
   "outputs": [],
   "source": [
    "import pandas as pd \n",
    "\n",
    "data = pd.read_csv(\"numbers.csv\") \n"
   ]
  },
  {
   "cell_type": "markdown",
   "metadata": {},
   "source": [
    "## Base Pattern nested\n",
    "\n",
    "Bughunt 1:\n",
    "\n",
    "```js\n",
    "const sauerkrautJar = await ferment(\n",
    "  salt(\n",
    "    new Jar(\n",
    "      pound(\n",
    "        cut(\n",
    "          wash(\"cabbage\")\n",
    "        )\n",
    "      )\n",
    "    )\n",
    "  )\n",
    ");\n",
    "const sauerkraut = sauerkrautJar.takeOne();\n",
    "\n",
    "// Error: No day length provided\n",
    "```\n",
    "\n",
    "Bughunt 2:\n",
    "\n",
    "```js\n",
    "const sauerkrautJar = ferment(\n",
    "  salt(\n",
    "    new Jar(\n",
    "      pound(\n",
    "        cut(\n",
    "          wash(\"cabbage\")\n",
    "        )\n",
    "      )\n",
    "    )\n",
    "  ), 14\n",
    ");\n",
    "const sauerkraut = sauerkrautJar.takeOne();\n",
    "\n",
    "// Error: sauerkrautJar.takeOne is not a function\n",
    "```\n",
    "\n",
    "Bughunt 3:\n",
    "\n",
    "```js\n",
    "const sauerkrautJar = await ferment(\n",
    "  salt(\n",
    "    new Jar\n",
    "      pound(\n",
    "        cut(\n",
    "          wash(\"cabbage\")\n",
    "        )\n",
    "      )\n",
    "    )\n",
    "  ), 14\n",
    ");\n",
    "const sauerkraut = sauerkrautJar.takeOne();\n",
    "\n",
    "// SyntaxError: unexpected token: ')'\n",
    "```"
   ]
  },
  {
   "cell_type": "code",
   "execution_count": 52,
   "metadata": {
    "scrolled": true
   },
   "outputs": [
    {
     "data": {
      "image/png": "[encoded data removed]",
      "text/plain": [
       "<Figure size 432x288 with 1 Axes>"
      ]
     },
     "metadata": {
      "needs_background": "light"
     },
     "output_type": "display_data"
    }
   ],
   "source": [
    "columns = ['Timing Correct Bughunt 1', 'Timing Correct Bughunt 2', 'Timing Correct Bughunt 3']\n",
    "threshold_upper = 1050\n",
    "threshold_lower = 0\n",
    "\n",
    "for column in columns:\n",
    "    data[column] = data[column].clip(upper=threshold_upper, lower=threshold_lower)\n",
    "    data[column].dropna()\n",
    "\n",
    "\n",
    "\n",
    "boxplot = data.boxplot(column=columns)"
   ]
  },
  {
   "cell_type": "markdown",
   "metadata": {},
   "source": [
    "## Base Pattern Flattened\n",
    "\n",
    "Bugunt 4:\n",
    "```js\n",
    "const washedCabbage = wash(\"cabbage\");\n",
    "const cutCabbage = cut(washedCabbage);\n",
    "const crushedCabbage = pound(cutCabbage);\n",
    "const cabbageJar = new Jar(crushedCabbage);\n",
    "const saltyCabbageJar = salt(cabbageJar);\n",
    "const sauerkrautJar = await ferment(saltCabbageJar, 14);\n",
    "const sauerkraut = sauerkrautJar.takeOne();\n",
    "\n",
    "// Error: saltCabbageJar is undefined\n",
    "```\n",
    "\n",
    "Bughunt 5:\n",
    "```js\n",
    "const washedCabbage = wash(\"cabbage\");\n",
    "const cutCabbage = cut(washedCabbage);\n",
    "const crushedCabbage = pound(cutCabbage);\n",
    "const cabbageJar = new Jar(crushedCabbage);\n",
    "const saltyCabbageJar = salt(cabbageJar);\n",
    "const sauerkrautJar = ferment(saltyCabbageJar, 14);\n",
    "const sauerkraut = sauerkrautJar.takeOne();\n",
    "\n",
    "// Error: sauerkrautJar.takeOne is not a function\n",
    "```\n",
    "\n",
    "Bughunt 6:\n",
    "```js\n",
    "const washedCabbage = wash(\"cabbage\");\n",
    "const cutCabbage = cut(washedCabbage);\n",
    "const crushedCabbage = poundcutCabbage);\n",
    "const cabbageJar = new Jar(crushedCabbage);\n",
    "const saltyCabbageJar = salt(cabbageJar);\n",
    "const sauerkrautJar = await ferment(saltyCabbageJar, 14);\n",
    "const sauerkraut = sauerkrautJar.takeOne();\n",
    "\n",
    "// SyntaxError: unexpected token: ')'\n",
    "```"
   ]
  },
  {
   "cell_type": "code",
   "execution_count": 53,
   "metadata": {},
   "outputs": [
    {
     "data": {
      "image/png": "[encoded data removed]",
      "text/plain": [
       "<Figure size 432x288 with 1 Axes>"
      ]
     },
     "metadata": {
      "needs_background": "light"
     },
     "output_type": "display_data"
    }
   ],
   "source": [
    "columns = ['Timing Correct Bughunt 4', 'Timing Correct Bughunt 5', 'Timing Correct Bughunt 6']\n",
    "threshold_upper = 1050\n",
    "threshold_lower = 0\n",
    "\n",
    "for column in columns:\n",
    "    data[column] = data[column].clip(upper=threshold_upper, lower=threshold_lower)\n",
    "    data[column].dropna()\n",
    "\n",
    "\n",
    "\n",
    "boxplot = data.boxplot(column=columns)"
   ]
  },
  {
   "cell_type": "markdown",
   "metadata": {},
   "source": [
    "## Proposal 1 variations\n",
    "\n",
    "Bughunt 8:\n",
    "```js\n",
    "const sauerkraut = \"cabbage\"\n",
    "  |> wash\n",
    "  |> cut\n",
    "  |> pound\n",
    "  |> new Jar(#);\n",
    "  |> add(\"water\", #)\n",
    "  |> salt\n",
    "  |> ferment(#, 2)\n",
    "  |> await #\n",
    "  |> #.takeOne()\n",
    "\n",
    "// SyntaxError: unexpected token `|`\n",
    "```\n",
    "\n",
    "Bughunt 9:\n",
    "```js\n",
    "const sauerkraut = \"cabbage\"\n",
    "  |> wash\n",
    "  |> cut\n",
    "  |> pound\n",
    "  |> new Jar\n",
    "  |> add(\"water\", #)\n",
    "  |> salt\n",
    "  |> ferment(#, 14)\n",
    "  |> await #\n",
    "  |> #.takeOne()\n",
    "\n",
    "// Error: Jar must be instantiated with an initial ingredient\n",
    "```\n",
    "\n",
    "Bughunt 10:\n",
    "```js\n",
    "const sauerkraut = \"cabbage\"\n",
    "  |> wash\n",
    "  |> cut\n",
    "  |> pound\n",
    "  |> new Jar(#)\n",
    "  |> add(\"water\", #)\n",
    "  |> salt\n",
    "  |> ferment\n",
    "  |> await #\n",
    "  |> #.takeOne()\n",
    "\n",
    "// Error: No day length provided\n",
    "```\n",
    "\n",
    "Bughunt 11:\n",
    "```js\n",
    "const sauerkraut = \"cabbage\"\n",
    "  |> wash\n",
    "  |> cut\n",
    "  |> pound\n",
    "  |> new Jar(#)\n",
    "  |> add(\"water\", #)\n",
    "  |> salt()\n",
    "  |> ferment(#, 2)\n",
    "  |> await #\n",
    "  |> #.takeOne()\n",
    "\n",
    "// SyntaxError: `#` is undefined\n",
    "```"
   ]
  },
  {
   "cell_type": "code",
   "execution_count": 57,
   "metadata": {},
   "outputs": [
    {
     "data": {
      "image/png": "[encoded data removed]",
      "text/plain": [
       "<Figure size 432x288 with 1 Axes>"
      ]
     },
     "metadata": {
      "needs_background": "light"
     },
     "output_type": "display_data"
    }
   ],
   "source": [
    "columns = ['Timing Correct Bughunt 8', 'Timing Correct Bughunt 9', 'Timing Correct Bughunt 10', 'Timing Correct Bughunt 11']\n",
    "threshold_upper = 1050\n",
    "threshold_lower = 0\n",
    "\n",
    "for column in columns:\n",
    "    data[column] = data[column].clip(upper=threshold_upper, lower=threshold_lower)\n",
    "    data[column].dropna()\n",
    "\n",
    "\n",
    "\n",
    "boxplot = data.boxplot(column=columns)"
   ]
  },
  {
   "cell_type": "markdown",
   "metadata": {},
   "source": [
    "## Proposal 2 Variations\n",
    "\n",
    "Bughunt 12:\n",
    "```js\n",
    "const sauerkraut = \"cabbage\"\n",
    "  |> wash\n",
    "  |> cut\n",
    "  |> pound\n",
    "  |> (_ => new Jar(_)\n",
    "  |> salt\n",
    "  |> (_ => ferment(_, 14))\n",
    "  |> await\n",
    "  |> (_ => _.takeOne())\n",
    "\n",
    "// SyntaxError: missing ) in parenthetical\n",
    "```\n",
    "\n",
    "\n",
    "Bughunt 13:\n",
    "```js\n",
    "const sauerkraut = \"cabbage\"\n",
    "  |> wash\n",
    "  |> cut\n",
    "  |> pound\n",
    "  |> (_ => new Jar(_));\n",
    "  |> salt\n",
    "  |> (_ => ferment(_, 14))\n",
    "  |> await\n",
    "  |> (_ => _.takeOne())\n",
    "\n",
    "// SyntaxError: Unexpected token `|`\n",
    "```\n",
    "\n",
    "Bughunt 14:\n",
    "```js\n",
    "const sauerkraut = \"cabbage\"\n",
    "  |> wash\n",
    "  |> cut\n",
    "  |> pound\n",
    "  |> (_ => {new Jar(_)})\n",
    "  |> salt\n",
    "  |> (_ => {ferment(_, 14)})\n",
    "  |> await\n",
    "  |> (_ => {_.takeOne()})\n",
    "\n",
    "\n",
    "// Error: jar is undefined\n",
    "```\n",
    "\n",
    "Bughunt 15:\n",
    "```js\n",
    "const sauerkraut = \"cabbage\"\n",
    "  |> wash\n",
    "  |> cut\n",
    "  |> pound\n",
    "  |> new Jar\n",
    "  |> salt\n",
    "  |> (_ => ferment(_, 14))\n",
    "  |> await\n",
    "  |> (_ => _.takeOne())\n",
    "\n",
    "// Error: Jar must be instantiated with an initial ingredient\n",
    "```\n",
    "\n",
    "Bughunt 16:\n",
    "```js\n",
    "const sauerkraut = \"cabbage\"\n",
    "  |> wash\n",
    "  |> cut\n",
    "  |> pound\n",
    "  |> (_ => new Jar(_))\n",
    "  |> salt\n",
    "  |> ferment\n",
    "  |> await\n",
    "  |> (_ => _.takeOne())\n",
    "\n",
    "\n",
    "// Error: No day length provided\n",
    "```"
   ]
  },
  {
   "cell_type": "code",
   "execution_count": 60,
   "metadata": {},
   "outputs": [
    {
     "data": {
      "image/png": "[encoded data removed]",
      "text/plain": [
       "<Figure size 432x288 with 1 Axes>"
      ]
     },
     "metadata": {
      "needs_background": "light"
     },
     "output_type": "display_data"
    }
   ],
   "source": [
    "columns = ['Timing Correct Bughunt 12', 'Timing Correct Bughunt 14', 'Timing Correct Bughunt 15', 'Timing Correct Bughunt 16']\n",
    "threshold_upper = 1050\n",
    "threshold_lower = 0\n",
    "\n",
    "for column in columns:\n",
    "    data[column] = data[column].clip(upper=threshold_upper, lower=threshold_lower)\n",
    "    data[column].dropna()\n",
    "\n",
    "\n",
    "\n",
    "boxplot = data.boxplot(column=columns)"
   ]
  },
  {
   "cell_type": "markdown",
   "metadata": {},
   "source": [
    "## Comparing typing performance and correctness in translating a given challeng"
   ]
  },
  {
   "cell_type": "code",
   "execution_count": 39,
   "metadata": {},
   "outputs": [
    {
     "data": {
      "image/png": "[encoded data removed]",
      "text/plain": [
       "<Figure size 432x288 with 1 Axes>"
      ]
     },
     "metadata": {
      "needs_background": "light"
     },
     "output_type": "display_data"
    }
   ],
   "source": [
    "columns = ['Proposal 1 Implementation Timing Correct', 'Proposal 2 Implementation Timing Correct']\n",
    "threshold_upper = 1000\n",
    "threshold_lower = 0\n",
    "\n",
    "for column in columns:\n",
    "    data[column] = data[column].clip(upper=threshold_upper, lower=threshold_lower)\n",
    "    data[column].dropna()\n",
    "\n",
    "\n",
    "\n",
    "boxplot = data.boxplot(column=columns)"
   ]
  },
  {
   "cell_type": "code",
   "execution_count": 41,
   "metadata": {},
   "outputs": [
    {
     "data": {
      "image/png": "[encoded data removed]",
      "text/plain": [
       "<Figure size 432x288 with 1 Axes>"
      ]
     },
     "metadata": {
      "needs_background": "light"
     },
     "output_type": "display_data"
    }
   ],
   "source": [
    "columns = ['Proposal 1 Implementation Timing Incorrect', 'Proposal 2 Implementation Timing Incorrect']\n",
    "threshold_upper = 1000\n",
    "threshold_lower = 0\n",
    "\n",
    "for column in columns:\n",
    "    data[column] = data[column].clip(upper=threshold_upper, lower=threshold_lower)\n",
    "    data[column].dropna()\n",
    "\n",
    "\n",
    "\n",
    "boxplot = data.boxplot(column=columns)"
   ]
  },
  {
   "cell_type": "code",
   "execution_count": null,
   "metadata": {},
   "outputs": [],
   "source": []
  }
 ],
 "metadata": {
  "kernelspec": {
   "display_name": "Python 3",
   "language": "python",
   "name": "python3"
  },
  "language_info": {
   "codemirror_mode": {
    "name": "ipython",
    "version": 3
   },
   "file_extension": ".py",
   "mimetype": "text/x-python",
   "name": "python",
   "nbconvert_exporter": "python",
   "pygments_lexer": "ipython3",
   "version": "3.7.3"
  }
 },
 "nbformat": 4,
 "nbformat_minor": 2
}
